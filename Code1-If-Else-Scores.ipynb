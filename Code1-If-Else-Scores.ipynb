{
 "cells": [
  {
   "cell_type": "code",
   "execution_count": 1,
   "metadata": {},
   "outputs": [
    {
     "name": "stdout",
     "output_type": "stream",
     "text": [
      "What is your user? Asiel\n",
      " \n",
      "What is your score of math? 90\n",
      "Approved\n",
      " \n",
      "What is your score of statistics? 40\n",
      "Failed\n",
      " \n",
      "What is your score of electronics? 30\n",
      "Failed\n",
      " \n",
      "Sadly you didn´t pass statistics and electronics Asiel\n"
     ]
    }
   ],
   "source": [
    "user= input(\"What is your user? \")\n",
    "print(\" \")\n",
    "cal1 = int(input(\"What is your score of math? \"))\n",
    "if cal1 >= 80:\n",
    "    print(\"Approved\")\n",
    "else:\n",
    "    print(\"Failed\")\n",
    "print(\" \")\n",
    "cal2 = int(input(\"What is your score of statistics? \"))\n",
    "if cal2 >= 80:\n",
    "    print(\"Approved\")\n",
    "else:\n",
    "    print(\"Failed\")\n",
    "print(\" \")\n",
    "cal3 = int(input(\"What is your score of electronics? \"))\n",
    "if cal3 >= 80:\n",
    "    print(\"Approved\")\n",
    "else:\n",
    "    print(\"Failed\")\n",
    "print(\" \")\n",
    "if cal1 >=80 and cal2>=80 and cal3>=80:\n",
    "    print(\"Congrats you pass all your classes\", user)\n",
    "elif cal1 <80 and cal2<80 and cal3<80:\n",
    "    print(\"Sadly you didn´t pass anything\", user)\n",
    "elif cal1 <80 and cal2>=80 and cal3>=80:\n",
    "    print(\"Sadly you didn´t pass math\", user)\n",
    "elif cal1 <80 and cal2<80 and cal3>=80:\n",
    "    print(\"Sadly you didn´t pass math and statistic\", user)\n",
    "elif cal1 >=80 and cal2<80 and cal3>=80:\n",
    "    print(\"Sadly you didn´t pass statistics\", user)\n",
    "elif cal1 >=80 and cal2<80 and cal3<80:\n",
    "    print(\"Sadly you didn´t pass statistics and electronics\", user) \n",
    "elif cal1 >=80 and cal2>=80 and cal3<80:\n",
    "    print(\"Sadly you didn´t pass electronics\", user)\n",
    "elif cal1 <80 and cal2<80 and cal3>=80:\n",
    "    print(\"Sadly you didn´t pass math and electronics\", user)"
   ]
  }
 ],
 "metadata": {
  "kernelspec": {
   "display_name": "Python 3",
   "language": "python",
   "name": "python3"
  },
  "language_info": {
   "codemirror_mode": {
    "name": "ipython",
    "version": 3
   },
   "file_extension": ".py",
   "mimetype": "text/x-python",
   "name": "python",
   "nbconvert_exporter": "python",
   "pygments_lexer": "ipython3",
   "version": "3.8.3"
  }
 },
 "nbformat": 4,
 "nbformat_minor": 4
}
